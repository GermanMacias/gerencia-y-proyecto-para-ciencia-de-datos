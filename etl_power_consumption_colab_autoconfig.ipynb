{
  "cells": [
    {
      "cell_type": "markdown",
      "metadata": {
        "id": "view-in-github",
        "colab_type": "text"
      },
      "source": [
        "<a href=\"https://colab.research.google.com/github/GermanMacias/gerencia-y-proyecto-para-ciencia-de-datos/blob/main/etl_power_consumption_colab_autoconfig.ipynb\" target=\"_parent\"><img src=\"https://colab.research.google.com/assets/colab-badge.svg\" alt=\"Open In Colab\"/></a>"
      ]
    },
    {
      "cell_type": "markdown",
      "id": "c0acf20a",
      "metadata": {
        "id": "c0acf20a"
      },
      "source": [
        "\n",
        "# ETL  UCI Household Power Consumption\n",
        "\n",
        "repo: `GermanMacias/gerencia-y-proyecto-para-ciencia-de-datos`\n",
        "\n",
        "Incluye *fallbacks* automáticos para intentar estas rutas en GitHub RAW (en este orden):\n",
        "1. `household_power_consumption.zip` en la raíz\n",
        "2. `data/household_power_consumption.zip`\n",
        "3. `household_power_consumption.txt` en la raíz\n",
        "4. `data/household_power_consumption.txt`\n",
        "\n",
        "Genera **Parquet particionado (bronze, silver)** y **agregados (gold)**.\n"
      ]
    },
    {
      "cell_type": "markdown",
      "id": "da18029b",
      "metadata": {
        "id": "da18029b"
      },
      "source": [
        "## 0) Dependencias"
      ]
    },
    {
      "cell_type": "code",
      "execution_count": 1,
      "id": "9c54677e",
      "metadata": {
        "colab": {
          "base_uri": "https://localhost:8080/"
        },
        "id": "9c54677e",
        "outputId": "5fdc71b2-d7f2-4b88-a54d-650e471d2021"
      },
      "outputs": [
        {
          "output_type": "stream",
          "name": "stdout",
          "text": [
            "\u001b[?25l   \u001b[90m━━━━━━━━━━━━━━━━━━━━━━━━━━━━━━━━━━━━━━━━\u001b[0m \u001b[32m0.0/1.8 MB\u001b[0m \u001b[31m?\u001b[0m eta \u001b[36m-:--:--\u001b[0m\r\u001b[2K   \u001b[91m━━━\u001b[0m\u001b[90m╺\u001b[0m\u001b[90m━━━━━━━━━━━━━━━━━━━━━━━━━━━━━━━━━━━━\u001b[0m \u001b[32m0.2/1.8 MB\u001b[0m \u001b[31m4.5 MB/s\u001b[0m eta \u001b[36m0:00:01\u001b[0m\r\u001b[2K   \u001b[91m━━━━━━━━━━━━━━━━━━━━━━━━━━━\u001b[0m\u001b[91m╸\u001b[0m\u001b[90m━━━━━━━━━━━━\u001b[0m \u001b[32m1.3/1.8 MB\u001b[0m \u001b[31m16.8 MB/s\u001b[0m eta \u001b[36m0:00:01\u001b[0m\r\u001b[2K   \u001b[90m━━━━━━━━━━━━━━━━━━━━━━━━━━━━━━━━━━━━━━━━\u001b[0m \u001b[32m1.8/1.8 MB\u001b[0m \u001b[31m17.0 MB/s\u001b[0m eta \u001b[36m0:00:00\u001b[0m\n",
            "\u001b[?25h"
          ]
        }
      ],
      "source": [
        "\n",
        "!pip -q install pyarrow fastparquet pandas gdown requests\n"
      ]
    },
    {
      "cell_type": "markdown",
      "id": "cdd72480",
      "metadata": {
        "id": "cdd72480"
      },
      "source": [
        "## 1) Configuración (prellenada)"
      ]
    },
    {
      "cell_type": "code",
      "execution_count": 2,
      "id": "fe2b4df5",
      "metadata": {
        "id": "fe2b4df5"
      },
      "outputs": [],
      "source": [
        "\n",
        "# Repo y candidatos RAW ya preconfigurados\n",
        "GITHUB_USER_REPO = \"GermanMacias/gerencia-y-proyecto-para-ciencia-de-datos\"\n",
        "CANDIDATES = [\n",
        "    \"https://raw.githubusercontent.com/{}/main/household_power_consumption.zip\",\n",
        "    \"https://raw.githubusercontent.com/{}/main/data/household_power_consumption.zip\",\n",
        "    \"https://raw.githubusercontent.com/{}/main/household_power_consumption.txt\",\n",
        "    \"https://raw.githubusercontent.com/{}/main/data/household_power_consumption.txt\",\n",
        "]\n",
        "CANDIDATES = [u.format(GITHUB_USER_REPO) for u in CANDIDATES]\n",
        "\n",
        "# Nombre esperado dentro del zip (si aplica)\n",
        "INNER_TXT_NAME = \"household_power_consumption.txt\"\n"
      ]
    },
    {
      "cell_type": "markdown",
      "id": "1279aaea",
      "metadata": {
        "id": "1279aaea"
      },
      "source": [
        "## 2) Descarga desde GitHub (con fallbacks) o subida manual"
      ]
    },
    {
      "cell_type": "code",
      "execution_count": 3,
      "id": "a4e2a962",
      "metadata": {
        "colab": {
          "base_uri": "https://localhost:8080/",
          "height": 280
        },
        "id": "a4e2a962",
        "outputId": "71e80c38-dbac-4213-d3ce-fc702f5ecf9d"
      },
      "outputs": [
        {
          "output_type": "stream",
          "name": "stdout",
          "text": [
            "Intentando: https://raw.githubusercontent.com/GermanMacias/gerencia-y-proyecto-para-ciencia-de-datos/main/household_power_consumption.zip\n",
            "Falló: status 404\n",
            "Intentando: https://raw.githubusercontent.com/GermanMacias/gerencia-y-proyecto-para-ciencia-de-datos/main/data/household_power_consumption.zip\n",
            "Falló: status 404\n",
            "Intentando: https://raw.githubusercontent.com/GermanMacias/gerencia-y-proyecto-para-ciencia-de-datos/main/household_power_consumption.txt\n",
            "Falló: status 404\n",
            "Intentando: https://raw.githubusercontent.com/GermanMacias/gerencia-y-proyecto-para-ciencia-de-datos/main/data/household_power_consumption.txt\n",
            "Falló: status 404\n",
            "\n",
            "No se pudo descargar automáticamente. Sube el archivo manualmente (.zip o .txt).\n"
          ]
        },
        {
          "output_type": "display_data",
          "data": {
            "text/plain": [
              "<IPython.core.display.HTML object>"
            ],
            "text/html": [
              "\n",
              "     <input type=\"file\" id=\"files-5fd22765-3b98-4e84-b592-5f5c6e7b52d7\" name=\"files[]\" multiple disabled\n",
              "        style=\"border:none\" />\n",
              "     <output id=\"result-5fd22765-3b98-4e84-b592-5f5c6e7b52d7\">\n",
              "      Upload widget is only available when the cell has been executed in the\n",
              "      current browser session. Please rerun this cell to enable.\n",
              "      </output>\n",
              "      <script>// Copyright 2017 Google LLC\n",
              "//\n",
              "// Licensed under the Apache License, Version 2.0 (the \"License\");\n",
              "// you may not use this file except in compliance with the License.\n",
              "// You may obtain a copy of the License at\n",
              "//\n",
              "//      http://www.apache.org/licenses/LICENSE-2.0\n",
              "//\n",
              "// Unless required by applicable law or agreed to in writing, software\n",
              "// distributed under the License is distributed on an \"AS IS\" BASIS,\n",
              "// WITHOUT WARRANTIES OR CONDITIONS OF ANY KIND, either express or implied.\n",
              "// See the License for the specific language governing permissions and\n",
              "// limitations under the License.\n",
              "\n",
              "/**\n",
              " * @fileoverview Helpers for google.colab Python module.\n",
              " */\n",
              "(function(scope) {\n",
              "function span(text, styleAttributes = {}) {\n",
              "  const element = document.createElement('span');\n",
              "  element.textContent = text;\n",
              "  for (const key of Object.keys(styleAttributes)) {\n",
              "    element.style[key] = styleAttributes[key];\n",
              "  }\n",
              "  return element;\n",
              "}\n",
              "\n",
              "// Max number of bytes which will be uploaded at a time.\n",
              "const MAX_PAYLOAD_SIZE = 100 * 1024;\n",
              "\n",
              "function _uploadFiles(inputId, outputId) {\n",
              "  const steps = uploadFilesStep(inputId, outputId);\n",
              "  const outputElement = document.getElementById(outputId);\n",
              "  // Cache steps on the outputElement to make it available for the next call\n",
              "  // to uploadFilesContinue from Python.\n",
              "  outputElement.steps = steps;\n",
              "\n",
              "  return _uploadFilesContinue(outputId);\n",
              "}\n",
              "\n",
              "// This is roughly an async generator (not supported in the browser yet),\n",
              "// where there are multiple asynchronous steps and the Python side is going\n",
              "// to poll for completion of each step.\n",
              "// This uses a Promise to block the python side on completion of each step,\n",
              "// then passes the result of the previous step as the input to the next step.\n",
              "function _uploadFilesContinue(outputId) {\n",
              "  const outputElement = document.getElementById(outputId);\n",
              "  const steps = outputElement.steps;\n",
              "\n",
              "  const next = steps.next(outputElement.lastPromiseValue);\n",
              "  return Promise.resolve(next.value.promise).then((value) => {\n",
              "    // Cache the last promise value to make it available to the next\n",
              "    // step of the generator.\n",
              "    outputElement.lastPromiseValue = value;\n",
              "    return next.value.response;\n",
              "  });\n",
              "}\n",
              "\n",
              "/**\n",
              " * Generator function which is called between each async step of the upload\n",
              " * process.\n",
              " * @param {string} inputId Element ID of the input file picker element.\n",
              " * @param {string} outputId Element ID of the output display.\n",
              " * @return {!Iterable<!Object>} Iterable of next steps.\n",
              " */\n",
              "function* uploadFilesStep(inputId, outputId) {\n",
              "  const inputElement = document.getElementById(inputId);\n",
              "  inputElement.disabled = false;\n",
              "\n",
              "  const outputElement = document.getElementById(outputId);\n",
              "  outputElement.innerHTML = '';\n",
              "\n",
              "  const pickedPromise = new Promise((resolve) => {\n",
              "    inputElement.addEventListener('change', (e) => {\n",
              "      resolve(e.target.files);\n",
              "    });\n",
              "  });\n",
              "\n",
              "  const cancel = document.createElement('button');\n",
              "  inputElement.parentElement.appendChild(cancel);\n",
              "  cancel.textContent = 'Cancel upload';\n",
              "  const cancelPromise = new Promise((resolve) => {\n",
              "    cancel.onclick = () => {\n",
              "      resolve(null);\n",
              "    };\n",
              "  });\n",
              "\n",
              "  // Wait for the user to pick the files.\n",
              "  const files = yield {\n",
              "    promise: Promise.race([pickedPromise, cancelPromise]),\n",
              "    response: {\n",
              "      action: 'starting',\n",
              "    }\n",
              "  };\n",
              "\n",
              "  cancel.remove();\n",
              "\n",
              "  // Disable the input element since further picks are not allowed.\n",
              "  inputElement.disabled = true;\n",
              "\n",
              "  if (!files) {\n",
              "    return {\n",
              "      response: {\n",
              "        action: 'complete',\n",
              "      }\n",
              "    };\n",
              "  }\n",
              "\n",
              "  for (const file of files) {\n",
              "    const li = document.createElement('li');\n",
              "    li.append(span(file.name, {fontWeight: 'bold'}));\n",
              "    li.append(span(\n",
              "        `(${file.type || 'n/a'}) - ${file.size} bytes, ` +\n",
              "        `last modified: ${\n",
              "            file.lastModifiedDate ? file.lastModifiedDate.toLocaleDateString() :\n",
              "                                    'n/a'} - `));\n",
              "    const percent = span('0% done');\n",
              "    li.appendChild(percent);\n",
              "\n",
              "    outputElement.appendChild(li);\n",
              "\n",
              "    const fileDataPromise = new Promise((resolve) => {\n",
              "      const reader = new FileReader();\n",
              "      reader.onload = (e) => {\n",
              "        resolve(e.target.result);\n",
              "      };\n",
              "      reader.readAsArrayBuffer(file);\n",
              "    });\n",
              "    // Wait for the data to be ready.\n",
              "    let fileData = yield {\n",
              "      promise: fileDataPromise,\n",
              "      response: {\n",
              "        action: 'continue',\n",
              "      }\n",
              "    };\n",
              "\n",
              "    // Use a chunked sending to avoid message size limits. See b/62115660.\n",
              "    let position = 0;\n",
              "    do {\n",
              "      const length = Math.min(fileData.byteLength - position, MAX_PAYLOAD_SIZE);\n",
              "      const chunk = new Uint8Array(fileData, position, length);\n",
              "      position += length;\n",
              "\n",
              "      const base64 = btoa(String.fromCharCode.apply(null, chunk));\n",
              "      yield {\n",
              "        response: {\n",
              "          action: 'append',\n",
              "          file: file.name,\n",
              "          data: base64,\n",
              "        },\n",
              "      };\n",
              "\n",
              "      let percentDone = fileData.byteLength === 0 ?\n",
              "          100 :\n",
              "          Math.round((position / fileData.byteLength) * 100);\n",
              "      percent.textContent = `${percentDone}% done`;\n",
              "\n",
              "    } while (position < fileData.byteLength);\n",
              "  }\n",
              "\n",
              "  // All done.\n",
              "  yield {\n",
              "    response: {\n",
              "      action: 'complete',\n",
              "    }\n",
              "  };\n",
              "}\n",
              "\n",
              "scope.google = scope.google || {};\n",
              "scope.google.colab = scope.google.colab || {};\n",
              "scope.google.colab._files = {\n",
              "  _uploadFiles,\n",
              "  _uploadFilesContinue,\n",
              "};\n",
              "})(self);\n",
              "</script> "
            ]
          },
          "metadata": {}
        },
        {
          "output_type": "stream",
          "name": "stdout",
          "text": [
            "Saving individual+household+electric+power+consumption.zip to individual+household+electric+power+consumption.zip\n",
            "Archivo local: /content/data/individual+household+electric+power+consumption.zip | is_zip: True\n"
          ]
        }
      ],
      "source": [
        "\n",
        "import os, io, zipfile, requests\n",
        "from pathlib import Path\n",
        "\n",
        "data_dir = Path('/content/data')\n",
        "data_dir.mkdir(parents=True, exist_ok=True)\n",
        "\n",
        "def try_download(url):\n",
        "    try:\n",
        "        print(f\"Intentando: {url}\")\n",
        "        r = requests.get(url, timeout=60)\n",
        "        if r.ok and r.content and len(r.content) > 1024:  # >1KB\n",
        "            fn = url.split('/')[-1].split('?')[0]\n",
        "            local_path = str(data_dir / fn)\n",
        "            with open(local_path, 'wb') as f:\n",
        "                f.write(r.content)\n",
        "            print(f\"Descargado → {local_path} ({len(r.content)/1e6:.2f} MB)\")\n",
        "            return local_path\n",
        "        else:\n",
        "            print(f\"Falló: status {r.status_code}\")\n",
        "    except Exception as e:\n",
        "        print(\"Error:\", e)\n",
        "    return None\n",
        "\n",
        "local_path = None\n",
        "for url in CANDIDATES:\n",
        "    local_path = try_download(url)\n",
        "    if local_path:\n",
        "        break\n",
        "\n",
        "if not local_path:\n",
        "    print(\"\\nNo se pudo descargar automáticamente. Sube el archivo manualmente (.zip o .txt).\")\n",
        "    from google.colab import files\n",
        "    uploaded = files.upload()\n",
        "    if uploaded:\n",
        "        fn = next(iter(uploaded))\n",
        "        local_path = str(data_dir / fn)\n",
        "        with open(local_path, 'wb') as f:\n",
        "            f.write(uploaded[fn])\n",
        "\n",
        "if not local_path:\n",
        "    raise RuntimeError(\"No hay archivo de entrada.\")\n",
        "\n",
        "is_zip = local_path.lower().endswith('.zip')\n",
        "print(\"Archivo local:\", local_path, \"| is_zip:\", is_zip)\n"
      ]
    },
    {
      "cell_type": "markdown",
      "id": "1957f3e9",
      "metadata": {
        "id": "1957f3e9"
      },
      "source": [
        "## 3) Ingesta y limpieza (chunked) → **bronze**"
      ]
    },
    {
      "cell_type": "code",
      "execution_count": 4,
      "id": "f09bc62b",
      "metadata": {
        "colab": {
          "base_uri": "https://localhost:8080/"
        },
        "id": "f09bc62b",
        "outputId": "ef32236e-3746-4024-d784-58bd759c4dfc"
      },
      "outputs": [
        {
          "output_type": "stream",
          "name": "stdout",
          "text": [
            "Chunk 1...\n",
            "Chunk 2...\n",
            "Chunk 3...\n",
            "Chunk 4...\n",
            "Chunk 5...\n",
            "Chunk 6...\n",
            "Chunk 7...\n",
            "Chunk 8...\n",
            "Chunk 9...\n",
            "Chunk 10...\n",
            "Chunk 11...\n",
            "Bronze filas: 2,075,259\n"
          ]
        }
      ],
      "source": [
        "\n",
        "import pandas as pd\n",
        "import numpy as np\n",
        "from datetime import datetime\n",
        "from io import BytesIO\n",
        "\n",
        "bronze_dir = data_dir / 'bronze_parquet'\n",
        "silver_dir = data_dir / 'silver_parquet'\n",
        "bronze_dir.mkdir(exist_ok=True, parents=True)\n",
        "silver_dir.mkdir(exist_ok=True, parents=True)\n",
        "\n",
        "expected_cols = [\n",
        "    'Date','Time','Global_active_power','Global_reactive_power','Voltage',\n",
        "    'Global_intensity','Sub_metering_1','Sub_metering_2','Sub_metering_3'\n",
        "]\n",
        "\n",
        "def parse_and_clean(df: pd.DataFrame) -> pd.DataFrame:\n",
        "    df.columns = [c.strip() for c in df.columns]\n",
        "    miss = [c for c in expected_cols if c not in df.columns]\n",
        "    if miss:\n",
        "        raise ValueError(f\"Faltan columnas: {miss}\")\n",
        "    # '?' o vacío → NaN\n",
        "    for c in expected_cols:\n",
        "        df[c] = df[c].replace({'?': np.nan, '': np.nan})\n",
        "    # timestamp dd/mm/yyyy HH:MM:SS\n",
        "    df['timestamp'] = pd.to_datetime(\n",
        "        df['Date'].astype(str).str.strip() + ' ' + df['Time'].astype(str).str.strip(),\n",
        "        format='%d/%m/%Y %H:%M:%S',\n",
        "        errors='coerce'\n",
        "    )\n",
        "    # numéricos (coma→punto)\n",
        "    num_cols = [c for c in expected_cols if c not in ['Date','Time']]\n",
        "    for c in num_cols:\n",
        "        df[c] = df[c].astype(str).str.replace(',', '.', regex=False)\n",
        "        df[c] = pd.to_numeric(df[c], errors='coerce')\n",
        "    df = df[~df['timestamp'].isna()].copy()\n",
        "    df['year'] = df['timestamp'].dt.year\n",
        "    df['month'] = df['timestamp'].dt.month\n",
        "    return df\n",
        "\n",
        "def write_partitioned_parquet(df: pd.DataFrame, base_dir: Path):\n",
        "    for (y,m), g in df.groupby(['year','month']):\n",
        "        part_dir = base_dir / f\"year={y}/month={m:02d}\"\n",
        "        part_dir.mkdir(parents=True, exist_ok=True)\n",
        "        ts_min = g['timestamp'].min().strftime('%Y%m%d%H%M%S')\n",
        "        ts_max = g['timestamp'].max().strftime('%Y%m%d%H%M%S')\n",
        "        out_path = part_dir / f\"part_{ts_min}_{ts_max}.parquet\"\n",
        "        g.drop(columns=['year','month']).to_parquet(out_path, index=False)\n",
        "\n",
        "def iter_chunks(local_path, is_zip, inner_name):\n",
        "    if is_zip:\n",
        "        with zipfile.ZipFile(local_path) as z:\n",
        "            with z.open(inner_name) as f:\n",
        "                data = f.read()\n",
        "                bio = BytesIO(data)\n",
        "                for chunk in pd.read_csv(bio, sep=';', chunksize=200_000, dtype=str, low_memory=False):\n",
        "                    yield chunk\n",
        "    else:\n",
        "        for chunk in pd.read_csv(local_path, sep=';', chunksize=200_000, dtype=str, low_memory=False):\n",
        "            yield chunk\n",
        "\n",
        "rows = 0\n",
        "for i, raw_chunk in enumerate(iter_chunks(local_path, is_zip, INNER_TXT_NAME), start=1):\n",
        "    print(f\"Chunk {i}...\")\n",
        "    df = parse_and_clean(raw_chunk)\n",
        "    rows += len(df)\n",
        "    write_partitioned_parquet(df, bronze_dir)\n",
        "print(f\"Bronze filas: {rows:,}\")\n"
      ]
    },
    {
      "cell_type": "markdown",
      "id": "2e2d9283",
      "metadata": {
        "id": "2e2d9283"
      },
      "source": [
        "## 4) **silver**: variable `active_not_submetered` y guardado"
      ]
    },
    {
      "cell_type": "code",
      "execution_count": 8,
      "id": "aeb3acab",
      "metadata": {
        "colab": {
          "base_uri": "https://localhost:8080/"
        },
        "id": "aeb3acab",
        "outputId": "e36a45e3-92a2-431d-eb52-188b7979ad5e"
      },
      "outputs": [
        {
          "output_type": "stream",
          "name": "stdout",
          "text": [
            "Silver filas: 2,075,259\n"
          ]
        }
      ],
      "source": [
        "\n",
        "import glob, pandas as pd\n",
        "\n",
        "def augment_and_write_silver(bronze_dir: Path, silver_dir: Path):\n",
        "    files = glob.glob(str(bronze_dir / \"year=*/month=*/part_*.parquet\"))\n",
        "    total = 0\n",
        "    for fp in files:\n",
        "        df = pd.read_parquet(fp)\n",
        "        df['active_not_submetered'] = (\n",
        "    (df['Global_active_power'] * 1000.0 / 60.0)\n",
        "    - df['Sub_metering_1'].fillna(0)\n",
        "    - df['Sub_metering_2'].fillna(0)\n",
        "    - df['Sub_metering_3'].fillna(0)\n",
        ")\n",
        "\n",
        "        df['year'] = df['timestamp'].dt.year\n",
        "        df['month'] = df['timestamp'].dt.month\n",
        "        write_partitioned_parquet(df, silver_dir)\n",
        "        total += len(df)\n",
        "    print(f\"Silver filas: {total:,}\")\n",
        "\n",
        "augment_and_write_silver(bronze_dir, silver_dir)\n"
      ]
    },
    {
      "cell_type": "markdown",
      "id": "bd7331f1",
      "metadata": {
        "id": "bd7331f1"
      },
      "source": [
        "## 5) **gold**: agregados por hora y día"
      ]
    },
    {
      "cell_type": "code",
      "execution_count": 9,
      "id": "448fe705",
      "metadata": {
        "colab": {
          "base_uri": "https://localhost:8080/"
        },
        "id": "448fe705",
        "outputId": "b032e3c4-3e31-44e7-e904-62c37b8f75bb"
      },
      "outputs": [
        {
          "output_type": "stream",
          "name": "stderr",
          "text": [
            "/tmp/ipython-input-3847101723.py:12: FutureWarning: 'H' is deprecated and will be removed in a future version, please use 'h' instead.\n",
            "  df['hour_ts'] = df['timestamp'].dt.floor('H')\n",
            "/tmp/ipython-input-3847101723.py:12: FutureWarning: 'H' is deprecated and will be removed in a future version, please use 'h' instead.\n",
            "  df['hour_ts'] = df['timestamp'].dt.floor('H')\n",
            "/tmp/ipython-input-3847101723.py:12: FutureWarning: 'H' is deprecated and will be removed in a future version, please use 'h' instead.\n",
            "  df['hour_ts'] = df['timestamp'].dt.floor('H')\n",
            "/tmp/ipython-input-3847101723.py:12: FutureWarning: 'H' is deprecated and will be removed in a future version, please use 'h' instead.\n",
            "  df['hour_ts'] = df['timestamp'].dt.floor('H')\n",
            "/tmp/ipython-input-3847101723.py:12: FutureWarning: 'H' is deprecated and will be removed in a future version, please use 'h' instead.\n",
            "  df['hour_ts'] = df['timestamp'].dt.floor('H')\n",
            "/tmp/ipython-input-3847101723.py:12: FutureWarning: 'H' is deprecated and will be removed in a future version, please use 'h' instead.\n",
            "  df['hour_ts'] = df['timestamp'].dt.floor('H')\n",
            "/tmp/ipython-input-3847101723.py:12: FutureWarning: 'H' is deprecated and will be removed in a future version, please use 'h' instead.\n",
            "  df['hour_ts'] = df['timestamp'].dt.floor('H')\n",
            "/tmp/ipython-input-3847101723.py:12: FutureWarning: 'H' is deprecated and will be removed in a future version, please use 'h' instead.\n",
            "  df['hour_ts'] = df['timestamp'].dt.floor('H')\n",
            "/tmp/ipython-input-3847101723.py:12: FutureWarning: 'H' is deprecated and will be removed in a future version, please use 'h' instead.\n",
            "  df['hour_ts'] = df['timestamp'].dt.floor('H')\n",
            "/tmp/ipython-input-3847101723.py:12: FutureWarning: 'H' is deprecated and will be removed in a future version, please use 'h' instead.\n",
            "  df['hour_ts'] = df['timestamp'].dt.floor('H')\n",
            "/tmp/ipython-input-3847101723.py:12: FutureWarning: 'H' is deprecated and will be removed in a future version, please use 'h' instead.\n",
            "  df['hour_ts'] = df['timestamp'].dt.floor('H')\n",
            "/tmp/ipython-input-3847101723.py:12: FutureWarning: 'H' is deprecated and will be removed in a future version, please use 'h' instead.\n",
            "  df['hour_ts'] = df['timestamp'].dt.floor('H')\n",
            "/tmp/ipython-input-3847101723.py:12: FutureWarning: 'H' is deprecated and will be removed in a future version, please use 'h' instead.\n",
            "  df['hour_ts'] = df['timestamp'].dt.floor('H')\n",
            "/tmp/ipython-input-3847101723.py:12: FutureWarning: 'H' is deprecated and will be removed in a future version, please use 'h' instead.\n",
            "  df['hour_ts'] = df['timestamp'].dt.floor('H')\n",
            "/tmp/ipython-input-3847101723.py:12: FutureWarning: 'H' is deprecated and will be removed in a future version, please use 'h' instead.\n",
            "  df['hour_ts'] = df['timestamp'].dt.floor('H')\n",
            "/tmp/ipython-input-3847101723.py:12: FutureWarning: 'H' is deprecated and will be removed in a future version, please use 'h' instead.\n",
            "  df['hour_ts'] = df['timestamp'].dt.floor('H')\n",
            "/tmp/ipython-input-3847101723.py:12: FutureWarning: 'H' is deprecated and will be removed in a future version, please use 'h' instead.\n",
            "  df['hour_ts'] = df['timestamp'].dt.floor('H')\n",
            "/tmp/ipython-input-3847101723.py:12: FutureWarning: 'H' is deprecated and will be removed in a future version, please use 'h' instead.\n",
            "  df['hour_ts'] = df['timestamp'].dt.floor('H')\n",
            "/tmp/ipython-input-3847101723.py:12: FutureWarning: 'H' is deprecated and will be removed in a future version, please use 'h' instead.\n",
            "  df['hour_ts'] = df['timestamp'].dt.floor('H')\n",
            "/tmp/ipython-input-3847101723.py:12: FutureWarning: 'H' is deprecated and will be removed in a future version, please use 'h' instead.\n",
            "  df['hour_ts'] = df['timestamp'].dt.floor('H')\n",
            "/tmp/ipython-input-3847101723.py:12: FutureWarning: 'H' is deprecated and will be removed in a future version, please use 'h' instead.\n",
            "  df['hour_ts'] = df['timestamp'].dt.floor('H')\n",
            "/tmp/ipython-input-3847101723.py:12: FutureWarning: 'H' is deprecated and will be removed in a future version, please use 'h' instead.\n",
            "  df['hour_ts'] = df['timestamp'].dt.floor('H')\n",
            "/tmp/ipython-input-3847101723.py:12: FutureWarning: 'H' is deprecated and will be removed in a future version, please use 'h' instead.\n",
            "  df['hour_ts'] = df['timestamp'].dt.floor('H')\n",
            "/tmp/ipython-input-3847101723.py:12: FutureWarning: 'H' is deprecated and will be removed in a future version, please use 'h' instead.\n",
            "  df['hour_ts'] = df['timestamp'].dt.floor('H')\n",
            "/tmp/ipython-input-3847101723.py:12: FutureWarning: 'H' is deprecated and will be removed in a future version, please use 'h' instead.\n",
            "  df['hour_ts'] = df['timestamp'].dt.floor('H')\n",
            "/tmp/ipython-input-3847101723.py:12: FutureWarning: 'H' is deprecated and will be removed in a future version, please use 'h' instead.\n",
            "  df['hour_ts'] = df['timestamp'].dt.floor('H')\n",
            "/tmp/ipython-input-3847101723.py:12: FutureWarning: 'H' is deprecated and will be removed in a future version, please use 'h' instead.\n",
            "  df['hour_ts'] = df['timestamp'].dt.floor('H')\n",
            "/tmp/ipython-input-3847101723.py:12: FutureWarning: 'H' is deprecated and will be removed in a future version, please use 'h' instead.\n",
            "  df['hour_ts'] = df['timestamp'].dt.floor('H')\n",
            "/tmp/ipython-input-3847101723.py:12: FutureWarning: 'H' is deprecated and will be removed in a future version, please use 'h' instead.\n",
            "  df['hour_ts'] = df['timestamp'].dt.floor('H')\n",
            "/tmp/ipython-input-3847101723.py:12: FutureWarning: 'H' is deprecated and will be removed in a future version, please use 'h' instead.\n",
            "  df['hour_ts'] = df['timestamp'].dt.floor('H')\n",
            "/tmp/ipython-input-3847101723.py:12: FutureWarning: 'H' is deprecated and will be removed in a future version, please use 'h' instead.\n",
            "  df['hour_ts'] = df['timestamp'].dt.floor('H')\n",
            "/tmp/ipython-input-3847101723.py:12: FutureWarning: 'H' is deprecated and will be removed in a future version, please use 'h' instead.\n",
            "  df['hour_ts'] = df['timestamp'].dt.floor('H')\n",
            "/tmp/ipython-input-3847101723.py:12: FutureWarning: 'H' is deprecated and will be removed in a future version, please use 'h' instead.\n",
            "  df['hour_ts'] = df['timestamp'].dt.floor('H')\n",
            "/tmp/ipython-input-3847101723.py:12: FutureWarning: 'H' is deprecated and will be removed in a future version, please use 'h' instead.\n",
            "  df['hour_ts'] = df['timestamp'].dt.floor('H')\n",
            "/tmp/ipython-input-3847101723.py:12: FutureWarning: 'H' is deprecated and will be removed in a future version, please use 'h' instead.\n",
            "  df['hour_ts'] = df['timestamp'].dt.floor('H')\n",
            "/tmp/ipython-input-3847101723.py:12: FutureWarning: 'H' is deprecated and will be removed in a future version, please use 'h' instead.\n",
            "  df['hour_ts'] = df['timestamp'].dt.floor('H')\n",
            "/tmp/ipython-input-3847101723.py:12: FutureWarning: 'H' is deprecated and will be removed in a future version, please use 'h' instead.\n",
            "  df['hour_ts'] = df['timestamp'].dt.floor('H')\n",
            "/tmp/ipython-input-3847101723.py:12: FutureWarning: 'H' is deprecated and will be removed in a future version, please use 'h' instead.\n",
            "  df['hour_ts'] = df['timestamp'].dt.floor('H')\n",
            "/tmp/ipython-input-3847101723.py:12: FutureWarning: 'H' is deprecated and will be removed in a future version, please use 'h' instead.\n",
            "  df['hour_ts'] = df['timestamp'].dt.floor('H')\n",
            "/tmp/ipython-input-3847101723.py:12: FutureWarning: 'H' is deprecated and will be removed in a future version, please use 'h' instead.\n",
            "  df['hour_ts'] = df['timestamp'].dt.floor('H')\n",
            "/tmp/ipython-input-3847101723.py:12: FutureWarning: 'H' is deprecated and will be removed in a future version, please use 'h' instead.\n",
            "  df['hour_ts'] = df['timestamp'].dt.floor('H')\n",
            "/tmp/ipython-input-3847101723.py:12: FutureWarning: 'H' is deprecated and will be removed in a future version, please use 'h' instead.\n",
            "  df['hour_ts'] = df['timestamp'].dt.floor('H')\n",
            "/tmp/ipython-input-3847101723.py:12: FutureWarning: 'H' is deprecated and will be removed in a future version, please use 'h' instead.\n",
            "  df['hour_ts'] = df['timestamp'].dt.floor('H')\n",
            "/tmp/ipython-input-3847101723.py:12: FutureWarning: 'H' is deprecated and will be removed in a future version, please use 'h' instead.\n",
            "  df['hour_ts'] = df['timestamp'].dt.floor('H')\n",
            "/tmp/ipython-input-3847101723.py:12: FutureWarning: 'H' is deprecated and will be removed in a future version, please use 'h' instead.\n",
            "  df['hour_ts'] = df['timestamp'].dt.floor('H')\n",
            "/tmp/ipython-input-3847101723.py:12: FutureWarning: 'H' is deprecated and will be removed in a future version, please use 'h' instead.\n",
            "  df['hour_ts'] = df['timestamp'].dt.floor('H')\n",
            "/tmp/ipython-input-3847101723.py:12: FutureWarning: 'H' is deprecated and will be removed in a future version, please use 'h' instead.\n",
            "  df['hour_ts'] = df['timestamp'].dt.floor('H')\n",
            "/tmp/ipython-input-3847101723.py:12: FutureWarning: 'H' is deprecated and will be removed in a future version, please use 'h' instead.\n",
            "  df['hour_ts'] = df['timestamp'].dt.floor('H')\n",
            "/tmp/ipython-input-3847101723.py:12: FutureWarning: 'H' is deprecated and will be removed in a future version, please use 'h' instead.\n",
            "  df['hour_ts'] = df['timestamp'].dt.floor('H')\n",
            "/tmp/ipython-input-3847101723.py:12: FutureWarning: 'H' is deprecated and will be removed in a future version, please use 'h' instead.\n",
            "  df['hour_ts'] = df['timestamp'].dt.floor('H')\n",
            "/tmp/ipython-input-3847101723.py:12: FutureWarning: 'H' is deprecated and will be removed in a future version, please use 'h' instead.\n",
            "  df['hour_ts'] = df['timestamp'].dt.floor('H')\n",
            "/tmp/ipython-input-3847101723.py:12: FutureWarning: 'H' is deprecated and will be removed in a future version, please use 'h' instead.\n",
            "  df['hour_ts'] = df['timestamp'].dt.floor('H')\n",
            "/tmp/ipython-input-3847101723.py:12: FutureWarning: 'H' is deprecated and will be removed in a future version, please use 'h' instead.\n",
            "  df['hour_ts'] = df['timestamp'].dt.floor('H')\n",
            "/tmp/ipython-input-3847101723.py:12: FutureWarning: 'H' is deprecated and will be removed in a future version, please use 'h' instead.\n",
            "  df['hour_ts'] = df['timestamp'].dt.floor('H')\n",
            "/tmp/ipython-input-3847101723.py:12: FutureWarning: 'H' is deprecated and will be removed in a future version, please use 'h' instead.\n",
            "  df['hour_ts'] = df['timestamp'].dt.floor('H')\n",
            "/tmp/ipython-input-3847101723.py:12: FutureWarning: 'H' is deprecated and will be removed in a future version, please use 'h' instead.\n",
            "  df['hour_ts'] = df['timestamp'].dt.floor('H')\n",
            "/tmp/ipython-input-3847101723.py:12: FutureWarning: 'H' is deprecated and will be removed in a future version, please use 'h' instead.\n",
            "  df['hour_ts'] = df['timestamp'].dt.floor('H')\n",
            "/tmp/ipython-input-3847101723.py:12: FutureWarning: 'H' is deprecated and will be removed in a future version, please use 'h' instead.\n",
            "  df['hour_ts'] = df['timestamp'].dt.floor('H')\n"
          ]
        },
        {
          "output_type": "stream",
          "name": "stdout",
          "text": [
            "gold horario listo\n",
            "gold diario listo\n"
          ]
        }
      ],
      "source": [
        "\n",
        "gold_dir = data_dir / 'gold_parquet'\n",
        "gold_dir.mkdir(parents=True, exist_ok=True)\n",
        "\n",
        "def build_gold(silver_dir: Path, gold_dir: Path):\n",
        "    import glob, pandas as pd\n",
        "    files = glob.glob(str(silver_dir / \"year=*/month=*/part_*.parquet\"))\n",
        "    hourly_list, daily_list = [], []\n",
        "    agg_cols = ['Global_active_power','Global_reactive_power','Voltage',\n",
        "                'Global_intensity','Sub_metering_1','Sub_metering_2','Sub_metering_3','active_not_submetered']\n",
        "    for fp in files:\n",
        "        df = pd.read_parquet(fp)\n",
        "        df['hour_ts'] = df['timestamp'].dt.floor('H')\n",
        "        df['day'] = df['timestamp'].dt.date\n",
        "        hourly = df.groupby('hour_ts')[agg_cols].agg(['mean','sum']).reset_index()\n",
        "        daily = df.groupby('day')[agg_cols].agg(['mean','sum']).reset_index()\n",
        "        hourly_list.append(hourly); daily_list.append(daily)\n",
        "    if hourly_list:\n",
        "        pd.concat(hourly_list, ignore_index=True).to_parquet(gold_dir / \"hourly_aggregates.parquet\", index=False)\n",
        "        print(\"gold horario listo\")\n",
        "    if daily_list:\n",
        "        pd.concat(daily_list, ignore_index=True).to_parquet(gold_dir / \"daily_aggregates.parquet\", index=False)\n",
        "        print(\"gold diario listo\")\n",
        "\n",
        "build_gold(silver_dir, gold_dir)\n"
      ]
    },
    {
      "cell_type": "markdown",
      "id": "8abd22ab",
      "metadata": {
        "id": "8abd22ab"
      },
      "source": [
        "## 6) Checks rápidos"
      ]
    },
    {
      "cell_type": "code",
      "execution_count": 10,
      "id": "161f6f77",
      "metadata": {
        "colab": {
          "base_uri": "https://localhost:8080/"
        },
        "id": "161f6f77",
        "outputId": "ff13dd23-92a1-46a9-8007-7eb1a8f37c1a"
      },
      "outputs": [
        {
          "output_type": "stream",
          "name": "stdout",
          "text": [
            "Bronze: 2,075,259 filas | 2006-12-16 17:24:00 → 2010-11-26 21:02:00\n",
            "Silver: 2,075,259 filas | 2006-12-16 17:24:00 → 2010-11-26 21:02:00\n"
          ]
        }
      ],
      "source": [
        "\n",
        "import glob, pandas as pd\n",
        "\n",
        "def count_rows(base_dir: Path):\n",
        "    files = glob.glob(str(base_dir / \"year=*/month=*/part_*.parquet\"))\n",
        "    total, tmin, tmax = 0, None, None\n",
        "    for fp in files:\n",
        "        df = pd.read_parquet(fp, columns=['timestamp'])\n",
        "        total += len(df)\n",
        "        if len(df):\n",
        "            mi, ma = df['timestamp'].min(), df['timestamp'].max()\n",
        "            tmin = mi if tmin is None else min(tmin, mi)\n",
        "            tmax = ma if tmax is None else max(tmax, ma)\n",
        "    return total, tmin, tmax\n",
        "\n",
        "b_count, b_min, b_max = count_rows(bronze_dir)\n",
        "s_count, s_min, s_max = count_rows(silver_dir)\n",
        "print(f\"Bronze: {b_count:,} filas | {b_min} → {b_max}\")\n",
        "print(f\"Silver: {s_count:,} filas | {s_min} → {s_max}\")\n",
        "\n",
        "files = glob.glob(str(silver_dir / \"year=*/month=*/part_*.parquet\"))\n",
        "if files:\n",
        "    df = pd.read_parquet(files[0]).head(10)\n",
        "    df\n",
        "else:\n",
        "    print(\"Sin particiones para mostrar.\")\n"
      ]
    }
  ],
  "metadata": {
    "colab": {
      "provenance": [],
      "include_colab_link": true
    },
    "language_info": {
      "name": "python"
    },
    "kernelspec": {
      "name": "python3",
      "display_name": "Python 3"
    }
  },
  "nbformat": 4,
  "nbformat_minor": 5
}